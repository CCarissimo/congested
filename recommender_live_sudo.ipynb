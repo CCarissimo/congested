{
 "cells": [
  {
   "cell_type": "code",
   "execution_count": 1,
   "id": "d71949ff",
   "metadata": {},
   "outputs": [],
   "source": [
    "import numpy as np\n",
    "import matplotlib.pyplot as plt\n",
    "from matplotlib.animation import FuncAnimation\n",
    "import time"
   ]
  },
  {
   "cell_type": "code",
   "execution_count": 2,
   "id": "42de29cc",
   "metadata": {},
   "outputs": [],
   "source": [
    "import keyboard"
   ]
  },
  {
   "cell_type": "code",
   "execution_count": 3,
   "id": "3496f648",
   "metadata": {},
   "outputs": [],
   "source": [
    "from functions import *"
   ]
  },
  {
   "cell_type": "code",
   "execution_count": 4,
   "id": "7ac112ee",
   "metadata": {},
   "outputs": [],
   "source": [
    "N_AGENTS = 100\n",
    "N_STATES = 3\n",
    "N_ACTIONS = 3\n",
    "N_ITER = 20000\n",
    "\n",
    "EPSILON = 0.01\n",
    "mask = np.zeros(N_AGENTS)\n",
    "mask[:] = 1\n",
    "GAMMA = 0\n",
    "ALPHA = 0.25\n",
    "\n",
    "QINIT = np.array([-2, -2, -2])"
   ]
  },
  {
   "cell_type": "code",
   "execution_count": 5,
   "id": "ebfd89d7",
   "metadata": {},
   "outputs": [],
   "source": [
    "def recommender(Q, initial_guess, maximize=False):\n",
    "    if not maximize:\n",
    "        fun = lambda x: total_welfare(Q, x)\n",
    "    else:\n",
    "        fun = lambda x: -1 * total_welfare(Q, x)\n",
    "\n",
    "    recommendation = minimize(fun, x0=initial_guess, bounds=[(0, 2) for i in range(len(initial_guess))],\n",
    "                              method=None)\n",
    "    S = np.rint(recommendation.x).astype(int)\n",
    "    return S"
   ]
  },
  {
   "cell_type": "code",
   "execution_count": 6,
   "id": "b8527705",
   "metadata": {},
   "outputs": [],
   "source": [
    "def recommender_next_state(R, Q, S, A, recommender_on):\n",
    "    if recommender_on:\n",
    "        S = recommender(Q, initial_guess=A)\n",
    "    else:\n",
    "        S = S\n",
    "#     print(recommender_on, S)\n",
    "    return S"
   ]
  },
  {
   "cell_type": "code",
   "execution_count": 7,
   "id": "e9816f14",
   "metadata": {},
   "outputs": [],
   "source": [
    "Q = InitializeQTable(QINIT, N_AGENTS, N_STATES, N_ACTIONS)\n",
    "\n",
    "if ALPHA == \"UNIFORM\":\n",
    "    ALPHA = np.random.random_sample(size=N_AGENTS)\n",
    "\n",
    "if EPSILON == \"UNIFORM\":\n",
    "    EPSILON = np.random.random_sample(size=N_AGENTS) * mask\n",
    "else:\n",
    "    EPSILON = EPSILON * np.ones(N_AGENTS) * mask\n",
    "\n",
    "M = {}\n",
    "\n",
    "S = np.random.randint(N_STATES, size=N_AGENTS)\n",
    "R = np.ones(N_AGENTS) * -2\n",
    "A = np.random.randint(N_STATES, size=N_AGENTS)"
   ]
  },
  {
   "cell_type": "code",
   "execution_count": null,
   "id": "6c1a11b2",
   "metadata": {
    "scrolled": false
   },
   "outputs": [
    {
     "data": {
      "image/png": "[encoded data removed]",
      "text/plain": [
       "<Figure size 432x288 with 1 Axes>"
      ]
     },
     "metadata": {},
     "output_type": "display_data"
    }
   ],
   "source": [
    "# %matplotlib widget\n",
    "\n",
    "fig = plt.figure()\n",
    "hfig = display(fig, display_id=True)\n",
    "recommender_on = False\n",
    "\n",
    "on_timesteps = []\n",
    "off_timesteps = []\n",
    "\n",
    "for t in range(N_ITER):\n",
    "    if keyboard.is_pressed(\"r\"):\n",
    "        recommender_on = True\n",
    "        on_timesteps.append(t)\n",
    "    elif keyboard.is_pressed(\"e\"):\n",
    "        recommender_on = False\n",
    "        off_timesteps.append(t)\n",
    "    else:\n",
    "        off_timesteps.append(t)\n",
    "    \n",
    "    \n",
    "    S = recommender_next_state(R, Q, S, A, recommender_on)\n",
    "    \n",
    "    A = e_greedy_select_action(Q, S, EPSILON)\n",
    "\n",
    "    R = braess_augmented_network(A)\n",
    "\n",
    "    Q = bellman_update_q_table(Q, S, A, R, ALPHA, GAMMA)\n",
    "\n",
    "    ## SAVE PROGRESS DATA\n",
    "    M[t] = {\"nA\": np.bincount(A, minlength=3),\n",
    "            \"R\": R,\n",
    "            \"Qmean\": Q.mean(axis=1).mean(axis=0),\n",
    "            # \"groups\": count_groups(Q[ind, S, :], 0.1),\n",
    "            # \"Qvar\": Q[ind, S, :].var(axis=0)\n",
    "           }\n",
    "    \n",
    "    plt.clf()\n",
    "    plt.plot(np.arange(0, t, 1), [M[i][\"R\"].mean() for i in range(t)])\n",
    "#     plt.plot(on_timesteps, [M[i][\"R\"].mean() for i in on_timesteps])\n",
    "#     plt.plot(off_timesteps, [M[i][\"R\"].mean() for i in off_timesteps])\n",
    "#     ax2.hist(np.bincount(S))\n",
    "    fig.canvas.draw()\n",
    "    hfig.update(fig)\n",
    "    time.sleep(0.1)\n",
    "    "
   ]
  },
  {
   "cell_type": "raw",
   "id": "e675c90b",
   "metadata": {},
   "source": [
    "while True:\n",
    "    if keyboard.is_pressed(\"r\"):\n",
    "        print(\"You pressed r\")\n",
    "    elif keyboard.is_pressed(\"e\"):\n",
    "        print(\"You pressed e\")"
   ]
  },
  {
   "cell_type": "raw",
   "id": "f94df603",
   "metadata": {},
   "source": [
    "def init():\n",
    "    "
   ]
  },
  {
   "cell_type": "code",
   "execution_count": null,
   "id": "0db665d0",
   "metadata": {},
   "outputs": [],
   "source": [
    "def animate(step):\n",
    "    "
   ]
  }
 ],
 "metadata": {
  "kernelspec": {
   "display_name": "Python 3 (ipykernel)",
   "language": "python",
   "name": "python3"
  },
  "language_info": {
   "codemirror_mode": {
    "name": "ipython",
    "version": 3
   },
   "file_extension": ".py",
   "mimetype": "text/x-python",
   "name": "python",
   "nbconvert_exporter": "python",
   "pygments_lexer": "ipython3",
   "version": "3.9.7"
  }
 },
 "nbformat": 4,
 "nbformat_minor": 5
}
