{
 "cells": [
  {
   "cell_type": "code",
   "execution_count": 2,
   "id": "5e8b0bd0",
   "metadata": {},
   "outputs": [
    {
     "name": "stdout",
     "output_type": "stream",
     "text": [
      "Collecting networkx\n",
      "  Downloading networkx-3.0-py3-none-any.whl (2.0 MB)\n",
      "\u001b[K     |████████████████████████████████| 2.0 MB 7.0 MB/s eta 0:00:01\n",
      "\u001b[?25hInstalling collected packages: networkx\n",
      "Successfully installed networkx-3.0\n"
     ]
    }
   ],
   "source": [
    "!pip install networkx"
   ]
  },
  {
   "cell_type": "code",
   "execution_count": 41,
   "id": "3c181e87",
   "metadata": {},
   "outputs": [],
   "source": [
    "import networkx as nx\n",
    "import matplotlib.pyplot as plt"
   ]
  },
  {
   "cell_type": "code",
   "execution_count": 42,
   "id": "53a01971",
   "metadata": {},
   "outputs": [],
   "source": [
    "G = nx.DiGraph()"
   ]
  },
  {
   "cell_type": "code",
   "execution_count": 43,
   "id": "ebf25281",
   "metadata": {},
   "outputs": [],
   "source": [
    "G.add_nodes_from([0, 1, 2, 3])"
   ]
  },
  {
   "cell_type": "code",
   "execution_count": 44,
   "id": "e1b58570",
   "metadata": {},
   "outputs": [
    {
     "data": {
      "text/plain": [
       "{'graph': {},\n",
       " '_node': {0: {}, 1: {}, 2: {}, 3: {}},\n",
       " '_adj': {0: {}, 1: {}, 2: {}, 3: {}},\n",
       " '_succ': {0: {}, 1: {}, 2: {}, 3: {}},\n",
       " '_pred': {0: {}, 1: {}, 2: {}, 3: {}}}"
      ]
     },
     "execution_count": 44,
     "metadata": {},
     "output_type": "execute_result"
    }
   ],
   "source": [
    "G.__dict__"
   ]
  },
  {
   "cell_type": "code",
   "execution_count": 148,
   "id": "3a1ad613",
   "metadata": {},
   "outputs": [],
   "source": [
    "G.add_edges_from([\n",
    "    (0, 1, {\"cost\": lambda x: x}), \n",
    "    (0, 2, {\"cost\": lambda x: 100}),\n",
    "    (1, 2, {\"cost\": lambda x: 0}),\n",
    "    (1, 3, {\"cost\": lambda x: 100}),\n",
    "    (2, 3, {\"cost\": lambda x: x})])"
   ]
  },
  {
   "cell_type": "code",
   "execution_count": 149,
   "id": "4e91b372",
   "metadata": {},
   "outputs": [
    {
     "data": {
      "image/png": "[encoded data removed]",
      "text/plain": [
       "<Figure size 432x288 with 1 Axes>"
      ]
     },
     "metadata": {},
     "output_type": "display_data"
    }
   ],
   "source": [
    "subax1 = plt.subplot(121)\n",
    "nx.draw(G, with_labels=True, font_weight='bold')"
   ]
  },
  {
   "cell_type": "code",
   "execution_count": 150,
   "id": "c63c9eec",
   "metadata": {},
   "outputs": [],
   "source": [
    "for node in G.nodes:\n",
    "    d = G.adj[node]\n",
    "    action_map = {i: n for i,n in enumerate(d)}\n",
    "    G.nodes[node][\"action_map\"] = action_map"
   ]
  },
  {
   "cell_type": "code",
   "execution_count": 151,
   "id": "10da5e2d",
   "metadata": {},
   "outputs": [
    {
     "data": {
      "text/plain": [
       "NodeView((0, 1, 2, 3))"
      ]
     },
     "execution_count": 151,
     "metadata": {},
     "output_type": "execute_result"
    }
   ],
   "source": [
    "G.nodes"
   ]
  },
  {
   "cell_type": "code",
   "execution_count": 163,
   "id": "4fa99d43",
   "metadata": {},
   "outputs": [
    {
     "data": {
      "text/plain": [
       "OutEdgeDataView([(0, 1), (0, 2)])"
      ]
     },
     "execution_count": 163,
     "metadata": {},
     "output_type": "execute_result"
    }
   ],
   "source": [
    "G.edges(0)"
   ]
  },
  {
   "cell_type": "code",
   "execution_count": 153,
   "id": "23e02532",
   "metadata": {},
   "outputs": [
    {
     "data": {
      "text/plain": [
       "AdjacencyView({0: {1: {'cost': <function <lambda> at 0x7fe831512550>}, 2: {'cost': <function <lambda> at 0x7fe831512160>}}, 1: {2: {'cost': <function <lambda> at 0x7fe831512430>}, 3: {'cost': <function <lambda> at 0x7fe8315124c0>}}, 2: {3: {'cost': <function <lambda> at 0x7fe8315120d0>}}, 3: {}})"
      ]
     },
     "execution_count": 153,
     "metadata": {},
     "output_type": "execute_result"
    }
   ],
   "source": [
    "G.adj"
   ]
  },
  {
   "cell_type": "code",
   "execution_count": 154,
   "id": "0088a390",
   "metadata": {},
   "outputs": [
    {
     "data": {
      "text/plain": [
       "DiDegreeView({0: 2, 1: 3, 2: 3, 3: 2})"
      ]
     },
     "execution_count": 154,
     "metadata": {},
     "output_type": "execute_result"
    }
   ],
   "source": [
    "G.degree"
   ]
  },
  {
   "cell_type": "code",
   "execution_count": 155,
   "id": "92ca865f",
   "metadata": {},
   "outputs": [
    {
     "data": {
      "text/plain": [
       "0.5"
      ]
     },
     "execution_count": 155,
     "metadata": {},
     "output_type": "execute_result"
    }
   ],
   "source": [
    "G[0][1][\"cost\"](0.5)"
   ]
  },
  {
   "cell_type": "code",
   "execution_count": 156,
   "id": "de51f8b6",
   "metadata": {},
   "outputs": [],
   "source": [
    "n_agents = 100\n",
    "n_actions = 2\n",
    "n_states = 4"
   ]
  },
  {
   "cell_type": "code",
   "execution_count": 157,
   "id": "88f737a5",
   "metadata": {},
   "outputs": [],
   "source": [
    "G.nodes[0][\"vehicles\"] = 100"
   ]
  },
  {
   "cell_type": "code",
   "execution_count": 454,
   "id": "1cde14e4",
   "metadata": {},
   "outputs": [],
   "source": [
    "from agent_functions import bellman_update_q_table, e_greedy_select_action\n",
    "import numpy as np"
   ]
  },
  {
   "cell_type": "code",
   "execution_count": 534,
   "id": "453a608c",
   "metadata": {},
   "outputs": [],
   "source": [
    "Q = - np.random.random_sample(size=(n_agents, n_states, n_actions)) - 1"
   ]
  },
  {
   "cell_type": "code",
   "execution_count": 535,
   "id": "08083c21",
   "metadata": {},
   "outputs": [],
   "source": [
    "T = np.zeros(n_agents)"
   ]
  },
  {
   "cell_type": "code",
   "execution_count": 536,
   "id": "e9ad200d",
   "metadata": {},
   "outputs": [],
   "source": [
    "S = np.zeros((n_agents)).astype(int)"
   ]
  },
  {
   "cell_type": "code",
   "execution_count": 537,
   "id": "d7ba072d",
   "metadata": {},
   "outputs": [
    {
     "data": {
      "text/plain": [
       "(array([ True,  True,  True,  True,  True,  True,  True,  True,  True,\n",
       "         True,  True,  True,  True,  True,  True,  True,  True,  True,\n",
       "         True,  True,  True,  True,  True,  True,  True,  True,  True,\n",
       "         True,  True,  True,  True,  True,  True,  True,  True,  True,\n",
       "         True,  True,  True,  True,  True,  True,  True,  True,  True,\n",
       "         True,  True,  True,  True,  True,  True,  True,  True,  True,\n",
       "         True,  True,  True,  True,  True,  True,  True,  True,  True,\n",
       "         True,  True,  True,  True,  True,  True,  True,  True,  True,\n",
       "         True,  True,  True,  True,  True,  True,  True,  True,  True,\n",
       "         True,  True,  True,  True,  True,  True,  True,  True,  True,\n",
       "         True,  True,  True,  True,  True,  True,  True,  True,  True,\n",
       "         True]),\n",
       " array([0, 0, 0, 0, 0, 0, 0, 0, 0, 0, 0, 0, 0, 0, 0, 0, 0, 0, 0, 0, 0, 0,\n",
       "        0, 0, 0, 0, 0, 0, 0, 0, 0, 0, 0, 0, 0, 0, 0, 0, 0, 0, 0, 0, 0, 0,\n",
       "        0, 0, 0, 0, 0, 0, 0, 0, 0, 0, 0, 0, 0, 0, 0, 0, 0, 0, 0, 0, 0, 0,\n",
       "        0, 0, 0, 0, 0, 0, 0, 0, 0, 0, 0, 0, 0, 0, 0, 0, 0, 0, 0, 0, 0, 0,\n",
       "        0, 0, 0, 0, 0, 0, 0, 0, 0, 0, 0, 0]))"
      ]
     },
     "execution_count": 537,
     "metadata": {},
     "output_type": "execute_result"
    }
   ],
   "source": [
    "remaining_agents = np.where(S!=3, True, False)\n",
    "fastest = np.where(T == T.min(), True, False)\n",
    "agents = fastest * remaining_agents\n",
    "states = S[agents]\n",
    "agents, states"
   ]
  },
  {
   "cell_type": "code",
   "execution_count": 538,
   "id": "7f7d567d",
   "metadata": {},
   "outputs": [
    {
     "data": {
      "text/plain": [
       "array([1, 0, 1, 1, 1, 0, 0, 0, 1, 1, 1, 1, 0, 1, 0, 1, 0, 1, 0, 0, 1, 1,\n",
       "       1, 0, 1, 1, 1, 0, 1, 1, 1, 1, 0, 1, 1, 0, 1, 0, 0, 1, 0, 0, 0, 1,\n",
       "       0, 1, 1, 0, 1, 1, 1, 0, 1, 1, 0, 1, 1, 1, 1, 1, 0, 0, 0, 0, 0, 1,\n",
       "       1, 0, 1, 0, 1, 1, 1, 0, 0, 0, 1, 0, 1, 1, 1, 1, 0, 1, 1, 0, 0, 1,\n",
       "       1, 0, 1, 1, 0, 1, 1, 1, 1, 0, 1, 1])"
      ]
     },
     "execution_count": 538,
     "metadata": {},
     "output_type": "execute_result"
    }
   ],
   "source": [
    "A = e_greedy_select_action(Q[agents], states, 0.1)\n",
    "A"
   ]
  },
  {
   "cell_type": "code",
   "execution_count": 539,
   "id": "c8e874b9",
   "metadata": {},
   "outputs": [
    {
     "name": "stdout",
     "output_type": "stream",
     "text": [
      "0\n",
      "[1, 2]\n",
      "[ True  True  True  True  True  True  True  True  True  True  True  True\n",
      "  True  True  True  True  True  True  True  True  True  True  True  True\n",
      "  True  True  True  True  True  True  True  True  True  True  True  True\n",
      "  True  True  True  True  True  True  True  True  True  True  True  True\n",
      "  True  True  True  True  True  True  True  True  True  True  True  True\n",
      "  True  True  True  True  True  True  True  True  True  True  True  True\n",
      "  True  True  True  True  True  True  True  True  True  True  True  True\n",
      "  True  True  True  True  True  True  True  True  True  True  True  True\n",
      "  True  True  True  True]\n",
      "[1 0 1 1 1 0 0 0 1 1 1 1 0 1 0 1 0 1 0 0 1 1 1 0 1 1 1 0 1 1 1 1 0 1 1 0 1\n",
      " 0 0 1 0 0 0 1 0 1 1 0 1 1 1 0 1 1 0 1 1 1 1 1 0 0 0 0 0 1 1 0 1 0 1 1 1 0\n",
      " 0 0 1 0 1 1 1 1 0 1 1 0 0 1 1 0 1 1 0 1 1 1 1 0 1 1]\n",
      "[39 61]\n",
      "[39, 100]\n",
      "[100.  39. 100. 100. 100.  39.  39.  39. 100. 100. 100. 100.  39. 100.\n",
      "  39. 100.  39. 100.  39.  39. 100. 100. 100.  39. 100. 100. 100.  39.\n",
      " 100. 100. 100. 100.  39. 100. 100.  39. 100.  39.  39. 100.  39.  39.\n",
      "  39. 100.  39. 100. 100.  39. 100. 100. 100.  39. 100. 100.  39. 100.\n",
      " 100. 100. 100. 100.  39.  39.  39.  39.  39. 100. 100.  39. 100.  39.\n",
      " 100. 100. 100.  39.  39.  39. 100.  39. 100. 100. 100. 100.  39. 100.\n",
      " 100.  39.  39. 100. 100.  39. 100. 100.  39. 100. 100. 100. 100.  39.\n",
      " 100. 100.]\n",
      "[2 1 2 2 2 1 1 1 2 2 2 2 1 2 1 2 1 2 1 1 2 2 2 1 2 2 2 1 2 2 2 2 1 2 2 1 2\n",
      " 1 1 2 1 1 1 2 1 2 2 1 2 2 2 1 2 2 1 2 2 2 2 2 1 1 1 1 1 2 2 1 2 1 2 2 2 1\n",
      " 1 1 2 1 2 2 2 2 1 2 2 1 1 2 2 1 2 2 1 2 2 2 2 1 2 2]\n"
     ]
    }
   ],
   "source": [
    "uni = np.unique(states)\n",
    "R = np.zeros(len(A))\n",
    "for s in uni:\n",
    "    if s == 3:\n",
    "        # terminate\n",
    "        pass\n",
    "    else:\n",
    "        print(s)\n",
    "        edges = [neighbour[1] for neighbour in G.edges(s)]\n",
    "        print(edges)\n",
    "        agents_at_s = np.where(states==s, True, False) \n",
    "        print(agents_at_s)\n",
    "        actions = np.clip(A[agents_at_s].flatten(), 0, len(edges)-1)\n",
    "        print(actions)\n",
    "        counts = np.bincount(actions, minlength=n_actions)\n",
    "        print(counts)\n",
    "        rewards = [G.adj[s][neighbour[1]][\"cost\"](counts[i]) for i,neighbour in enumerate(G.edges(s))]\n",
    "        print(rewards)\n",
    "        R[agents_at_s] = np.array([rewards[a] for a in actions])\n",
    "        print(R[agents_at_s])\n",
    "        states[agents_at_s] = np.array([edges[a] for a in actions]).astype(int)\n",
    "        print(states[agents_at_s])\n",
    "S[agents] = states"
   ]
  },
  {
   "cell_type": "code",
   "execution_count": 540,
   "id": "17e429ab",
   "metadata": {},
   "outputs": [],
   "source": [
    "T[agents] += R"
   ]
  },
  {
   "cell_type": "code",
   "execution_count": 541,
   "id": "2ae7f4dc",
   "metadata": {
    "scrolled": true
   },
   "outputs": [],
   "source": [
    "Q[agents], _ = bellman_update_q_table(Q[agents], states, A, R, 0.1, 0.2)"
   ]
  },
  {
   "cell_type": "code",
   "execution_count": 542,
   "id": "22eedac1",
   "metadata": {},
   "outputs": [
    {
     "data": {
      "text/plain": [
       "array([100.,  39., 100., 100., 100.,  39.,  39.,  39., 100., 100., 100.,\n",
       "       100.,  39., 100.,  39., 100.,  39., 100.,  39.,  39., 100., 100.,\n",
       "       100.,  39., 100., 100., 100.,  39., 100., 100., 100., 100.,  39.,\n",
       "       100., 100.,  39., 100.,  39.,  39., 100.,  39.,  39.,  39., 100.,\n",
       "        39., 100., 100.,  39., 100., 100., 100.,  39., 100., 100.,  39.,\n",
       "       100., 100., 100., 100., 100.,  39.,  39.,  39.,  39.,  39., 100.,\n",
       "       100.,  39., 100.,  39., 100., 100., 100.,  39.,  39.,  39., 100.,\n",
       "        39., 100., 100., 100., 100.,  39., 100., 100.,  39.,  39., 100.,\n",
       "       100.,  39., 100., 100.,  39., 100., 100., 100., 100.,  39., 100.,\n",
       "       100.])"
      ]
     },
     "execution_count": 542,
     "metadata": {},
     "output_type": "execute_result"
    }
   ],
   "source": [
    "T"
   ]
  },
  {
   "cell_type": "code",
   "execution_count": 543,
   "id": "b8562a20",
   "metadata": {},
   "outputs": [
    {
     "data": {
      "text/plain": [
       "array([2, 1, 2, 2, 2, 1, 1, 1, 2, 2, 2, 2, 1, 2, 1, 2, 1, 2, 1, 1, 2, 2,\n",
       "       2, 1, 2, 2, 2, 1, 2, 2, 2, 2, 1, 2, 2, 1, 2, 1, 1, 2, 1, 1, 1, 2,\n",
       "       1, 2, 2, 1, 2, 2, 2, 1, 2, 2, 1, 2, 2, 2, 2, 2, 1, 1, 1, 1, 1, 2,\n",
       "       2, 1, 2, 1, 2, 2, 2, 1, 1, 1, 2, 1, 2, 2, 2, 2, 1, 2, 2, 1, 1, 2,\n",
       "       2, 1, 2, 2, 1, 2, 2, 2, 2, 1, 2, 2])"
      ]
     },
     "execution_count": 543,
     "metadata": {},
     "output_type": "execute_result"
    }
   ],
   "source": [
    "S"
   ]
  },
  {
   "cell_type": "code",
   "execution_count": 544,
   "id": "c7be0688",
   "metadata": {},
   "outputs": [
    {
     "data": {
      "text/plain": [
       "array([100.,  39., 100., 100., 100.,  39.,  39.,  39., 100., 100., 100.,\n",
       "       100.,  39., 100.,  39., 100.,  39., 100.,  39.,  39., 100., 100.,\n",
       "       100.,  39., 100., 100., 100.,  39., 100., 100., 100., 100.,  39.,\n",
       "       100., 100.,  39., 100.,  39.,  39., 100.,  39.,  39.,  39., 100.,\n",
       "        39., 100., 100.,  39., 100., 100., 100.,  39., 100., 100.,  39.,\n",
       "       100., 100., 100., 100., 100.,  39.,  39.,  39.,  39.,  39., 100.,\n",
       "       100.,  39., 100.,  39., 100., 100., 100.,  39.,  39.,  39., 100.,\n",
       "        39., 100., 100., 100., 100.,  39., 100., 100.,  39.,  39., 100.,\n",
       "       100.,  39., 100., 100.,  39., 100., 100., 100., 100.,  39., 100.,\n",
       "       100.])"
      ]
     },
     "execution_count": 544,
     "metadata": {},
     "output_type": "execute_result"
    }
   ],
   "source": [
    "R"
   ]
  },
  {
   "cell_type": "code",
   "execution_count": 545,
   "id": "7e6d562c",
   "metadata": {},
   "outputs": [
    {
     "data": {
      "text/plain": [
       "OutEdgeDataView([(1, 2), (1, 3)])"
      ]
     },
     "execution_count": 545,
     "metadata": {},
     "output_type": "execute_result"
    }
   ],
   "source": [
    "G.edges(1)"
   ]
  },
  {
   "cell_type": "code",
   "execution_count": 373,
   "id": "ec464428",
   "metadata": {},
   "outputs": [
    {
     "data": {
      "text/plain": [
       "array([1, 2])"
      ]
     },
     "execution_count": 373,
     "metadata": {},
     "output_type": "execute_result"
    }
   ],
   "source": [
    "np.unique(S)"
   ]
  },
  {
   "cell_type": "code",
   "execution_count": 194,
   "id": "697577fb",
   "metadata": {},
   "outputs": [
    {
     "data": {
      "text/plain": [
       "array([False, False, False, False, False, False, False, False, False,\n",
       "       False, False, False, False, False, False, False, False, False,\n",
       "       False, False, False, False, False, False, False, False, False,\n",
       "       False, False, False, False, False, False, False, False, False,\n",
       "       False, False, False, False, False, False, False, False, False,\n",
       "       False, False, False, False, False, False, False, False, False,\n",
       "       False, False, False, False, False, False, False, False, False,\n",
       "       False, False, False, False, False, False, False, False, False,\n",
       "       False, False, False, False, False, False, False, False, False,\n",
       "       False, False, False, False, False, False, False, False, False,\n",
       "       False, False, False, False, False, False, False, False, False,\n",
       "       False])"
      ]
     },
     "execution_count": 194,
     "metadata": {},
     "output_type": "execute_result"
    }
   ],
   "source": [
    "np.where(S==0, True, False)"
   ]
  },
  {
   "cell_type": "code",
   "execution_count": 165,
   "id": "54ea7645",
   "metadata": {},
   "outputs": [
    {
     "data": {
      "text/plain": [
       "55"
      ]
     },
     "execution_count": 165,
     "metadata": {},
     "output_type": "execute_result"
    }
   ],
   "source": [
    "G.adj[s][1][\"cost\"](counts[0])"
   ]
  },
  {
   "cell_type": "code",
   "execution_count": 169,
   "id": "2affc70d",
   "metadata": {},
   "outputs": [
    {
     "data": {
      "text/plain": [
       "array([100., 100.,  55., 100.,  55.,  55., 100.,  55.,  55.,  55.,  55.,\n",
       "        55.,  55.,  55.,  55.,  55.,  55., 100., 100.,  55.,  55.,  55.,\n",
       "        55., 100.,  55.,  55., 100.,  55.,  55.,  55.,  55.,  55.,  55.,\n",
       "        55.,  55.,  55., 100., 100.,  55., 100., 100., 100.,  55., 100.,\n",
       "       100., 100., 100.,  55., 100., 100., 100.,  55., 100., 100., 100.,\n",
       "        55.,  55., 100.,  55., 100.,  55., 100., 100., 100., 100., 100.,\n",
       "        55., 100.,  55., 100.,  55.,  55.,  55., 100., 100., 100.,  55.,\n",
       "        55., 100.,  55.,  55.,  55.,  55., 100.,  55., 100., 100., 100.,\n",
       "       100.,  55., 100., 100., 100.,  55., 100.,  55.,  55.,  55.,  55.,\n",
       "        55.])"
      ]
     },
     "execution_count": 169,
     "metadata": {},
     "output_type": "execute_result"
    }
   ],
   "source": [
    "R"
   ]
  },
  {
   "cell_type": "code",
   "execution_count": null,
   "id": "a56c555c",
   "metadata": {},
   "outputs": [],
   "source": [
    "remaining_agents = np.where(S!=3, True, False)\n",
    "fastest = np.where(T == T.min(), True, False)\n",
    "agents = fastest * remaining_agents\n",
    "states = S[agents]\n",
    "A = e_greedy_select_action(Q[agents], states, 0.1)"
   ]
  },
  {
   "cell_type": "code",
   "execution_count": 520,
   "id": "b77dda7e",
   "metadata": {},
   "outputs": [],
   "source": [
    "def async_braess(graph, states, A):\n",
    "    uni = np.unique(states)\n",
    "    R = np.zeros(len(A))\n",
    "    for s in uni:\n",
    "        if s == 3:\n",
    "            # terminate\n",
    "            pass\n",
    "        else:\n",
    "            edges = [neighbour[1] for neighbour in graph.edges(s)]\n",
    "            agents_at_s = np.where(states==s, True, False) \n",
    "            actions = np.clip(A[agents_at_s].flatten(), 0, len(edges)-1)\n",
    "            counts = np.bincount(actions, minlength=n_actions)\n",
    "            rewards = [graph.adj[s][neighbour[1]][\"cost\"](counts[i]) for i,neighbour in enumerate(graph.edges(s))]\n",
    "            R[agents_at_s] = np.array([rewards[a] for a in actions])\n",
    "            states[agents_at_s] = np.array([edges[a] for a in actions]).astype(int)\n",
    "    \n",
    "    return states, R"
   ]
  },
  {
   "cell_type": "code",
   "execution_count": 513,
   "id": "4586bf29",
   "metadata": {},
   "outputs": [
    {
     "ename": "IndentationError",
     "evalue": "unexpected indent (3437674642.py, line 3)",
     "output_type": "error",
     "traceback": [
      "\u001b[0;36m  Cell \u001b[0;32mIn[513], line 3\u001b[0;36m\u001b[0m\n\u001b[0;31m    T[agents] += R\u001b[0m\n\u001b[0m    ^\u001b[0m\n\u001b[0;31mIndentationError\u001b[0m\u001b[0;31m:\u001b[0m unexpected indent\n"
     ]
    }
   ],
   "source": [
    "S[agents] = states    \n",
    "T[agents] += R\n",
    "Q[agents], _ = bellman_update_q_table(Q[agents], states, A, R, 0.1, 0.2)"
   ]
  },
  {
   "cell_type": "code",
   "execution_count": 564,
   "id": "0b50cd61",
   "metadata": {},
   "outputs": [],
   "source": [
    "from run_functions import *\n",
    "import copy"
   ]
  },
  {
   "cell_type": "code",
   "execution_count": 592,
   "id": "d95cbed0",
   "metadata": {},
   "outputs": [],
   "source": [
    "n_agents = 100\n",
    "n_actions = 2\n",
    "n_states = 4\n",
    "n_iter = 1000\n",
    "\n",
    "G = nx.DiGraph()\n",
    "G.add_nodes_from([0, 1, 2, 3])\n",
    "G.add_edges_from([\n",
    "    (0, 1, {\"cost\": lambda x: x}), \n",
    "    (0, 2, {\"cost\": lambda x: 100}),\n",
    "    (1, 2, {\"cost\": lambda x: 0}),\n",
    "    (1, 3, {\"cost\": lambda x: 100}),\n",
    "    (2, 3, {\"cost\": lambda x: x})])\n",
    "# for node in G.nodes:\n",
    "#     d = G.adj[node]\n",
    "#     action_map = {i: n for i,n in enumerate(d)}\n",
    "#     G.nodes[node][\"action_map\"] = action_map"
   ]
  },
  {
   "cell_type": "code",
   "execution_count": 602,
   "id": "ca4d1931",
   "metadata": {},
   "outputs": [],
   "source": [
    "# Q = initialize_q_table(\"UNIFORM\", n_agents, n_states, n_actions)\n",
    "Q = - np.random.random_sample(size=(n_agents, n_states, n_actions))*100 - 100\n",
    "alpha = initialize_learning_rates(0.1, n_agents)\n",
    "epsilon = initialize_exploration_rates(0.1, n_agents)\n",
    "data = {}\n",
    "ind = np.arange(n_agents)\n",
    "\n",
    "for t in range(n_iter):\n",
    "    T = np.zeros(n_agents)\n",
    "    S = np.zeros(n_agents).astype(int)\n",
    "    \n",
    "    while np.where(S==3, False, True).sum() > 0:\n",
    "        remaining_agents = np.where(S!=3, True, False)\n",
    "        agents = np.where(T == T[remaining_agents].min(), True, False)\n",
    "        states = S[agents]\n",
    "        A = e_greedy_select_action(Q[agents], states, 0.1)\n",
    "\n",
    "        uni = np.unique(states)\n",
    "        R = np.zeros(len(A))\n",
    "        for s in uni:\n",
    "            if s == 3:\n",
    "                # terminate\n",
    "                pass\n",
    "            else:\n",
    "                edges = [neighbour[1] for neighbour in G.edges(s)]\n",
    "                agents_at_s = np.where(states==s, True, False) \n",
    "                actions = np.clip(A[agents_at_s].flatten(), 0, len(edges)-1)\n",
    "                counts = np.bincount(actions, minlength=n_actions)\n",
    "                rewards = [G.adj[s][neighbour[1]][\"cost\"](counts[i]) for i,neighbour in enumerate(G.edges(s))]\n",
    "                R[agents_at_s] = np.array([rewards[a] for a in actions])\n",
    "                states[agents_at_s] = np.array([edges[a] for a in actions]).astype(int)\n",
    "                Q[agents][agents_at_s], _ = bellman_update_q_table(Q[agents][agents_at_s], states[agents_at_s], A[agents_at_s], -R[agents_at_s], 0.1, 0.2)\n",
    "                \n",
    "        S[agents] = states    \n",
    "        T[agents] += R\n",
    "\n",
    "    ## SAVE PROGRESS DATA\n",
    "    data[t] = {\n",
    "               \"T\": T,\n",
    "               \"S\": S,\n",
    "               \"Q\": copy.deepcopy(Q),\n",
    "               \"amax\": Q[:,0].mean(axis=0).argmax()\n",
    "               }"
   ]
  },
  {
   "cell_type": "code",
   "execution_count": 597,
   "id": "bba9a934",
   "metadata": {
    "scrolled": true
   },
   "outputs": [
    {
     "data": {
      "text/plain": [
       "[<matplotlib.lines.Line2D at 0x7fe818269730>]"
      ]
     },
     "execution_count": 597,
     "metadata": {},
     "output_type": "execute_result"
    },
    {
     "data": {
      "image/png": "[encoded data removed]",
      "text/plain": [
       "<Figure size 432x288 with 1 Axes>"
      ]
     },
     "metadata": {
      "needs_background": "light"
     },
     "output_type": "display_data"
    }
   ],
   "source": [
    "plt.plot([data[i][\"T\"].mean() for i in data.keys()])"
   ]
  },
  {
   "cell_type": "code",
   "execution_count": 603,
   "id": "41b5b78a",
   "metadata": {},
   "outputs": [
    {
     "data": {
      "text/plain": [
       "[<matplotlib.lines.Line2D at 0x7fe8186e8340>]"
      ]
     },
     "execution_count": 603,
     "metadata": {},
     "output_type": "execute_result"
    },
    {
     "data": {
      "image/png": "[encoded data removed]",
      "text/plain": [
       "<Figure size 432x288 with 1 Axes>"
      ]
     },
     "metadata": {
      "needs_background": "light"
     },
     "output_type": "display_data"
    }
   ],
   "source": [
    "plt.plot([data[i][\"amax\"].mean() for i in data.keys()])"
   ]
  },
  {
   "cell_type": "code",
   "execution_count": 598,
   "id": "b664d032",
   "metadata": {},
   "outputs": [
    {
     "data": {
      "text/plain": [
       "<matplotlib.legend.Legend at 0x7fe8184ba190>"
      ]
     },
     "execution_count": 598,
     "metadata": {},
     "output_type": "execute_result"
    },
    {
     "data": {
      "image/png": "[encoded data removed]",
      "text/plain": [
       "<Figure size 432x288 with 1 Axes>"
      ]
     },
     "metadata": {
      "needs_background": "light"
     },
     "output_type": "display_data"
    }
   ],
   "source": [
    "plt.plot([data[i][\"Q\"][:,0].mean(axis=0).argmax() for i in data.keys()], label=\"s0\")\n",
    "plt.plot([data[i][\"Q\"][:,1].mean(axis=0).argmax() for i in data.keys()], label=\"s1\")\n",
    "plt.legend()"
   ]
  },
  {
   "cell_type": "code",
   "execution_count": 601,
   "id": "c45ccc06",
   "metadata": {},
   "outputs": [
    {
     "data": {
      "text/plain": [
       "[array([-101.6839642 , -122.44606221]),\n",
       " array([-101.6839642 , -122.44606221]),\n",
       " array([-101.6839642 , -122.44606221]),\n",
       " array([-101.6839642 , -122.44606221]),\n",
       " array([-101.6839642 , -122.44606221]),\n",
       " array([-101.6839642 , -122.44606221]),\n",
       " array([-101.6839642 , -122.44606221]),\n",
       " array([-101.6839642 , -122.44606221]),\n",
       " array([-101.6839642 , -122.44606221]),\n",
       " array([-101.6839642 , -122.44606221]),\n",
       " array([-101.6839642 , -122.44606221]),\n",
       " array([-101.6839642 , -122.44606221]),\n",
       " array([-101.6839642 , -122.44606221]),\n",
       " array([-101.6839642 , -122.44606221]),\n",
       " array([-101.6839642 , -122.44606221]),\n",
       " array([-101.6839642 , -122.44606221]),\n",
       " array([-101.6839642 , -122.44606221]),\n",
       " array([-101.6839642 , -122.44606221]),\n",
       " array([-101.6839642 , -122.44606221]),\n",
       " array([-101.6839642 , -122.44606221]),\n",
       " array([-101.6839642 , -122.44606221]),\n",
       " array([-101.6839642 , -122.44606221]),\n",
       " array([-101.6839642 , -122.44606221]),\n",
       " array([-101.6839642 , -122.44606221]),\n",
       " array([-101.6839642 , -122.44606221]),\n",
       " array([-101.6839642 , -122.44606221]),\n",
       " array([-101.6839642 , -122.44606221]),\n",
       " array([-101.6839642 , -122.44606221]),\n",
       " array([-101.6839642 , -122.44606221]),\n",
       " array([-101.6839642 , -122.44606221]),\n",
       " array([-101.6839642 , -122.44606221]),\n",
       " array([-101.6839642 , -122.44606221]),\n",
       " array([-101.6839642 , -122.44606221]),\n",
       " array([-101.6839642 , -122.44606221]),\n",
       " array([-101.6839642 , -122.44606221]),\n",
       " array([-101.6839642 , -122.44606221]),\n",
       " array([-101.6839642 , -122.44606221]),\n",
       " array([-101.6839642 , -122.44606221]),\n",
       " array([-101.6839642 , -122.44606221]),\n",
       " array([-101.6839642 , -122.44606221]),\n",
       " array([-101.6839642 , -122.44606221]),\n",
       " array([-101.6839642 , -122.44606221]),\n",
       " array([-101.6839642 , -122.44606221]),\n",
       " array([-101.6839642 , -122.44606221]),\n",
       " array([-101.6839642 , -122.44606221]),\n",
       " array([-101.6839642 , -122.44606221]),\n",
       " array([-101.6839642 , -122.44606221]),\n",
       " array([-101.6839642 , -122.44606221]),\n",
       " array([-101.6839642 , -122.44606221]),\n",
       " array([-101.6839642 , -122.44606221]),\n",
       " array([-101.6839642 , -122.44606221]),\n",
       " array([-101.6839642 , -122.44606221]),\n",
       " array([-101.6839642 , -122.44606221]),\n",
       " array([-101.6839642 , -122.44606221]),\n",
       " array([-101.6839642 , -122.44606221]),\n",
       " array([-101.6839642 , -122.44606221]),\n",
       " array([-101.6839642 , -122.44606221]),\n",
       " array([-101.6839642 , -122.44606221]),\n",
       " array([-101.6839642 , -122.44606221]),\n",
       " array([-101.6839642 , -122.44606221]),\n",
       " array([-101.6839642 , -122.44606221]),\n",
       " array([-101.6839642 , -122.44606221]),\n",
       " array([-101.6839642 , -122.44606221]),\n",
       " array([-101.6839642 , -122.44606221]),\n",
       " array([-101.6839642 , -122.44606221]),\n",
       " array([-101.6839642 , -122.44606221]),\n",
       " array([-101.6839642 , -122.44606221]),\n",
       " array([-101.6839642 , -122.44606221]),\n",
       " array([-101.6839642 , -122.44606221]),\n",
       " array([-101.6839642 , -122.44606221]),\n",
       " array([-101.6839642 , -122.44606221]),\n",
       " array([-101.6839642 , -122.44606221]),\n",
       " array([-101.6839642 , -122.44606221]),\n",
       " array([-101.6839642 , -122.44606221]),\n",
       " array([-101.6839642 , -122.44606221]),\n",
       " array([-101.6839642 , -122.44606221]),\n",
       " array([-101.6839642 , -122.44606221]),\n",
       " array([-101.6839642 , -122.44606221]),\n",
       " array([-101.6839642 , -122.44606221]),\n",
       " array([-101.6839642 , -122.44606221]),\n",
       " array([-101.6839642 , -122.44606221]),\n",
       " array([-101.6839642 , -122.44606221]),\n",
       " array([-101.6839642 , -122.44606221]),\n",
       " array([-101.6839642 , -122.44606221]),\n",
       " array([-101.6839642 , -122.44606221]),\n",
       " array([-101.6839642 , -122.44606221]),\n",
       " array([-101.6839642 , -122.44606221]),\n",
       " array([-101.6839642 , -122.44606221]),\n",
       " array([-101.6839642 , -122.44606221]),\n",
       " array([-101.6839642 , -122.44606221]),\n",
       " array([-101.6839642 , -122.44606221]),\n",
       " array([-101.6839642 , -122.44606221]),\n",
       " array([-101.6839642 , -122.44606221]),\n",
       " array([-101.6839642 , -122.44606221]),\n",
       " array([-101.6839642 , -122.44606221]),\n",
       " array([-101.6839642 , -122.44606221]),\n",
       " array([-101.6839642 , -122.44606221]),\n",
       " array([-101.6839642 , -122.44606221]),\n",
       " array([-101.6839642 , -122.44606221]),\n",
       " array([-101.6839642 , -122.44606221]),\n",
       " array([-101.6839642 , -122.44606221]),\n",
       " array([-101.6839642 , -122.44606221]),\n",
       " array([-101.6839642 , -122.44606221]),\n",
       " array([-101.6839642 , -122.44606221]),\n",
       " array([-101.6839642 , -122.44606221]),\n",
       " array([-101.6839642 , -122.44606221]),\n",
       " array([-101.6839642 , -122.44606221]),\n",
       " array([-101.6839642 , -122.44606221]),\n",
       " array([-101.6839642 , -122.44606221]),\n",
       " array([-101.6839642 , -122.44606221]),\n",
       " array([-101.6839642 , -122.44606221]),\n",
       " array([-101.6839642 , -122.44606221]),\n",
       " array([-101.6839642 , -122.44606221]),\n",
       " array([-101.6839642 , -122.44606221]),\n",
       " array([-101.6839642 , -122.44606221]),\n",
       " array([-101.6839642 , -122.44606221]),\n",
       " array([-101.6839642 , -122.44606221]),\n",
       " array([-101.6839642 , -122.44606221]),\n",
       " array([-101.6839642 , -122.44606221]),\n",
       " array([-101.6839642 , -122.44606221]),\n",
       " array([-101.6839642 , -122.44606221]),\n",
       " array([-101.6839642 , -122.44606221]),\n",
       " array([-101.6839642 , -122.44606221]),\n",
       " array([-101.6839642 , -122.44606221]),\n",
       " array([-101.6839642 , -122.44606221]),\n",
       " array([-101.6839642 , -122.44606221]),\n",
       " array([-101.6839642 , -122.44606221]),\n",
       " array([-101.6839642 , -122.44606221]),\n",
       " array([-101.6839642 , -122.44606221]),\n",
       " array([-101.6839642 , -122.44606221]),\n",
       " array([-101.6839642 , -122.44606221]),\n",
       " array([-101.6839642 , -122.44606221]),\n",
       " array([-101.6839642 , -122.44606221]),\n",
       " array([-101.6839642 , -122.44606221]),\n",
       " array([-101.6839642 , -122.44606221]),\n",
       " array([-101.6839642 , -122.44606221]),\n",
       " array([-101.6839642 , -122.44606221]),\n",
       " array([-101.6839642 , -122.44606221]),\n",
       " array([-101.6839642 , -122.44606221]),\n",
       " array([-101.6839642 , -122.44606221]),\n",
       " array([-101.6839642 , -122.44606221]),\n",
       " array([-101.6839642 , -122.44606221]),\n",
       " array([-101.6839642 , -122.44606221]),\n",
       " array([-101.6839642 , -122.44606221]),\n",
       " array([-101.6839642 , -122.44606221]),\n",
       " array([-101.6839642 , -122.44606221]),\n",
       " array([-101.6839642 , -122.44606221]),\n",
       " array([-101.6839642 , -122.44606221]),\n",
       " array([-101.6839642 , -122.44606221]),\n",
       " array([-101.6839642 , -122.44606221]),\n",
       " array([-101.6839642 , -122.44606221]),\n",
       " array([-101.6839642 , -122.44606221]),\n",
       " array([-101.6839642 , -122.44606221]),\n",
       " array([-101.6839642 , -122.44606221]),\n",
       " array([-101.6839642 , -122.44606221]),\n",
       " array([-101.6839642 , -122.44606221]),\n",
       " array([-101.6839642 , -122.44606221]),\n",
       " array([-101.6839642 , -122.44606221]),\n",
       " array([-101.6839642 , -122.44606221]),\n",
       " array([-101.6839642 , -122.44606221]),\n",
       " array([-101.6839642 , -122.44606221]),\n",
       " array([-101.6839642 , -122.44606221]),\n",
       " array([-101.6839642 , -122.44606221]),\n",
       " array([-101.6839642 , -122.44606221]),\n",
       " array([-101.6839642 , -122.44606221]),\n",
       " array([-101.6839642 , -122.44606221]),\n",
       " array([-101.6839642 , -122.44606221]),\n",
       " array([-101.6839642 , -122.44606221]),\n",
       " array([-101.6839642 , -122.44606221]),\n",
       " array([-101.6839642 , -122.44606221]),\n",
       " array([-101.6839642 , -122.44606221]),\n",
       " array([-101.6839642 , -122.44606221]),\n",
       " array([-101.6839642 , -122.44606221]),\n",
       " array([-101.6839642 , -122.44606221]),\n",
       " array([-101.6839642 , -122.44606221]),\n",
       " array([-101.6839642 , -122.44606221]),\n",
       " array([-101.6839642 , -122.44606221]),\n",
       " array([-101.6839642 , -122.44606221]),\n",
       " array([-101.6839642 , -122.44606221]),\n",
       " array([-101.6839642 , -122.44606221]),\n",
       " array([-101.6839642 , -122.44606221]),\n",
       " array([-101.6839642 , -122.44606221]),\n",
       " array([-101.6839642 , -122.44606221]),\n",
       " array([-101.6839642 , -122.44606221]),\n",
       " array([-101.6839642 , -122.44606221]),\n",
       " array([-101.6839642 , -122.44606221]),\n",
       " array([-101.6839642 , -122.44606221]),\n",
       " array([-101.6839642 , -122.44606221]),\n",
       " array([-101.6839642 , -122.44606221]),\n",
       " array([-101.6839642 , -122.44606221]),\n",
       " array([-101.6839642 , -122.44606221]),\n",
       " array([-101.6839642 , -122.44606221]),\n",
       " array([-101.6839642 , -122.44606221]),\n",
       " array([-101.6839642 , -122.44606221]),\n",
       " array([-101.6839642 , -122.44606221]),\n",
       " array([-101.6839642 , -122.44606221]),\n",
       " array([-101.6839642 , -122.44606221]),\n",
       " array([-101.6839642 , -122.44606221]),\n",
       " array([-101.6839642 , -122.44606221]),\n",
       " array([-101.6839642 , -122.44606221]),\n",
       " array([-101.6839642 , -122.44606221]),\n",
       " array([-101.6839642 , -122.44606221]),\n",
       " array([-101.6839642 , -122.44606221]),\n",
       " array([-101.6839642 , -122.44606221]),\n",
       " array([-101.6839642 , -122.44606221]),\n",
       " array([-101.6839642 , -122.44606221]),\n",
       " array([-101.6839642 , -122.44606221]),\n",
       " array([-101.6839642 , -122.44606221]),\n",
       " array([-101.6839642 , -122.44606221]),\n",
       " array([-101.6839642 , -122.44606221]),\n",
       " array([-101.6839642 , -122.44606221]),\n",
       " array([-101.6839642 , -122.44606221]),\n",
       " array([-101.6839642 , -122.44606221]),\n",
       " array([-101.6839642 , -122.44606221]),\n",
       " array([-101.6839642 , -122.44606221]),\n",
       " array([-101.6839642 , -122.44606221]),\n",
       " array([-101.6839642 , -122.44606221]),\n",
       " array([-101.6839642 , -122.44606221]),\n",
       " array([-101.6839642 , -122.44606221]),\n",
       " array([-101.6839642 , -122.44606221]),\n",
       " array([-101.6839642 , -122.44606221]),\n",
       " array([-101.6839642 , -122.44606221]),\n",
       " array([-101.6839642 , -122.44606221]),\n",
       " array([-101.6839642 , -122.44606221]),\n",
       " array([-101.6839642 , -122.44606221]),\n",
       " array([-101.6839642 , -122.44606221]),\n",
       " array([-101.6839642 , -122.44606221]),\n",
       " array([-101.6839642 , -122.44606221]),\n",
       " array([-101.6839642 , -122.44606221]),\n",
       " array([-101.6839642 , -122.44606221]),\n",
       " array([-101.6839642 , -122.44606221]),\n",
       " array([-101.6839642 , -122.44606221]),\n",
       " array([-101.6839642 , -122.44606221]),\n",
       " array([-101.6839642 , -122.44606221]),\n",
       " array([-101.6839642 , -122.44606221]),\n",
       " array([-101.6839642 , -122.44606221]),\n",
       " array([-101.6839642 , -122.44606221]),\n",
       " array([-101.6839642 , -122.44606221]),\n",
       " array([-101.6839642 , -122.44606221]),\n",
       " array([-101.6839642 , -122.44606221]),\n",
       " array([-101.6839642 , -122.44606221]),\n",
       " array([-101.6839642 , -122.44606221]),\n",
       " array([-101.6839642 , -122.44606221]),\n",
       " array([-101.6839642 , -122.44606221]),\n",
       " array([-101.6839642 , -122.44606221]),\n",
       " array([-101.6839642 , -122.44606221]),\n",
       " array([-101.6839642 , -122.44606221]),\n",
       " array([-101.6839642 , -122.44606221]),\n",
       " array([-101.6839642 , -122.44606221]),\n",
       " array([-101.6839642 , -122.44606221]),\n",
       " array([-101.6839642 , -122.44606221]),\n",
       " array([-101.6839642 , -122.44606221]),\n",
       " array([-101.6839642 , -122.44606221]),\n",
       " array([-101.6839642 , -122.44606221]),\n",
       " array([-101.6839642 , -122.44606221]),\n",
       " array([-101.6839642 , -122.44606221]),\n",
       " array([-101.6839642 , -122.44606221]),\n",
       " array([-101.6839642 , -122.44606221]),\n",
       " array([-101.6839642 , -122.44606221]),\n",
       " array([-101.6839642 , -122.44606221]),\n",
       " array([-101.6839642 , -122.44606221]),\n",
       " array([-101.6839642 , -122.44606221]),\n",
       " array([-101.6839642 , -122.44606221]),\n",
       " array([-101.6839642 , -122.44606221]),\n",
       " array([-101.6839642 , -122.44606221]),\n",
       " array([-101.6839642 , -122.44606221]),\n",
       " array([-101.6839642 , -122.44606221]),\n",
       " array([-101.6839642 , -122.44606221]),\n",
       " array([-101.6839642 , -122.44606221]),\n",
       " array([-101.6839642 , -122.44606221]),\n",
       " array([-101.6839642 , -122.44606221]),\n",
       " array([-101.6839642 , -122.44606221]),\n",
       " array([-101.6839642 , -122.44606221]),\n",
       " array([-101.6839642 , -122.44606221]),\n",
       " array([-101.6839642 , -122.44606221]),\n",
       " array([-101.6839642 , -122.44606221]),\n",
       " array([-101.6839642 , -122.44606221]),\n",
       " array([-101.6839642 , -122.44606221]),\n",
       " array([-101.6839642 , -122.44606221]),\n",
       " array([-101.6839642 , -122.44606221]),\n",
       " array([-101.6839642 , -122.44606221]),\n",
       " array([-101.6839642 , -122.44606221]),\n",
       " array([-101.6839642 , -122.44606221]),\n",
       " array([-101.6839642 , -122.44606221]),\n",
       " array([-101.6839642 , -122.44606221]),\n",
       " array([-101.6839642 , -122.44606221]),\n",
       " array([-101.6839642 , -122.44606221]),\n",
       " array([-101.6839642 , -122.44606221]),\n",
       " array([-101.6839642 , -122.44606221]),\n",
       " array([-101.6839642 , -122.44606221]),\n",
       " array([-101.6839642 , -122.44606221]),\n",
       " array([-101.6839642 , -122.44606221]),\n",
       " array([-101.6839642 , -122.44606221]),\n",
       " array([-101.6839642 , -122.44606221]),\n",
       " array([-101.6839642 , -122.44606221]),\n",
       " array([-101.6839642 , -122.44606221]),\n",
       " array([-101.6839642 , -122.44606221]),\n",
       " array([-101.6839642 , -122.44606221]),\n",
       " array([-101.6839642 , -122.44606221]),\n",
       " array([-101.6839642 , -122.44606221]),\n",
       " array([-101.6839642 , -122.44606221]),\n",
       " array([-101.6839642 , -122.44606221]),\n",
       " array([-101.6839642 , -122.44606221]),\n",
       " array([-101.6839642 , -122.44606221]),\n",
       " array([-101.6839642 , -122.44606221]),\n",
       " array([-101.6839642 , -122.44606221]),\n",
       " array([-101.6839642 , -122.44606221]),\n",
       " array([-101.6839642 , -122.44606221]),\n",
       " array([-101.6839642 , -122.44606221]),\n",
       " array([-101.6839642 , -122.44606221]),\n",
       " array([-101.6839642 , -122.44606221]),\n",
       " array([-101.6839642 , -122.44606221]),\n",
       " array([-101.6839642 , -122.44606221]),\n",
       " array([-101.6839642 , -122.44606221]),\n",
       " array([-101.6839642 , -122.44606221]),\n",
       " array([-101.6839642 , -122.44606221]),\n",
       " array([-101.6839642 , -122.44606221]),\n",
       " array([-101.6839642 , -122.44606221]),\n",
       " array([-101.6839642 , -122.44606221]),\n",
       " array([-101.6839642 , -122.44606221]),\n",
       " array([-101.6839642 , -122.44606221]),\n",
       " array([-101.6839642 , -122.44606221]),\n",
       " array([-101.6839642 , -122.44606221]),\n",
       " array([-101.6839642 , -122.44606221]),\n",
       " array([-101.6839642 , -122.44606221]),\n",
       " array([-101.6839642 , -122.44606221]),\n",
       " array([-101.6839642 , -122.44606221]),\n",
       " array([-101.6839642 , -122.44606221]),\n",
       " array([-101.6839642 , -122.44606221]),\n",
       " array([-101.6839642 , -122.44606221]),\n",
       " array([-101.6839642 , -122.44606221]),\n",
       " array([-101.6839642 , -122.44606221]),\n",
       " array([-101.6839642 , -122.44606221]),\n",
       " array([-101.6839642 , -122.44606221]),\n",
       " array([-101.6839642 , -122.44606221]),\n",
       " array([-101.6839642 , -122.44606221]),\n",
       " array([-101.6839642 , -122.44606221]),\n",
       " array([-101.6839642 , -122.44606221]),\n",
       " array([-101.6839642 , -122.44606221]),\n",
       " array([-101.6839642 , -122.44606221]),\n",
       " array([-101.6839642 , -122.44606221]),\n",
       " array([-101.6839642 , -122.44606221]),\n",
       " array([-101.6839642 , -122.44606221]),\n",
       " array([-101.6839642 , -122.44606221]),\n",
       " array([-101.6839642 , -122.44606221]),\n",
       " array([-101.6839642 , -122.44606221]),\n",
       " array([-101.6839642 , -122.44606221]),\n",
       " array([-101.6839642 , -122.44606221]),\n",
       " array([-101.6839642 , -122.44606221]),\n",
       " array([-101.6839642 , -122.44606221]),\n",
       " array([-101.6839642 , -122.44606221]),\n",
       " array([-101.6839642 , -122.44606221]),\n",
       " array([-101.6839642 , -122.44606221]),\n",
       " array([-101.6839642 , -122.44606221]),\n",
       " array([-101.6839642 , -122.44606221]),\n",
       " array([-101.6839642 , -122.44606221]),\n",
       " array([-101.6839642 , -122.44606221]),\n",
       " array([-101.6839642 , -122.44606221]),\n",
       " array([-101.6839642 , -122.44606221]),\n",
       " array([-101.6839642 , -122.44606221]),\n",
       " array([-101.6839642 , -122.44606221]),\n",
       " array([-101.6839642 , -122.44606221]),\n",
       " array([-101.6839642 , -122.44606221]),\n",
       " array([-101.6839642 , -122.44606221]),\n",
       " array([-101.6839642 , -122.44606221]),\n",
       " array([-101.6839642 , -122.44606221]),\n",
       " array([-101.6839642 , -122.44606221]),\n",
       " array([-101.6839642 , -122.44606221]),\n",
       " array([-101.6839642 , -122.44606221]),\n",
       " array([-101.6839642 , -122.44606221]),\n",
       " array([-101.6839642 , -122.44606221]),\n",
       " array([-101.6839642 , -122.44606221]),\n",
       " array([-101.6839642 , -122.44606221]),\n",
       " array([-101.6839642 , -122.44606221]),\n",
       " array([-101.6839642 , -122.44606221]),\n",
       " array([-101.6839642 , -122.44606221]),\n",
       " array([-101.6839642 , -122.44606221]),\n",
       " array([-101.6839642 , -122.44606221]),\n",
       " array([-101.6839642 , -122.44606221]),\n",
       " array([-101.6839642 , -122.44606221]),\n",
       " array([-101.6839642 , -122.44606221]),\n",
       " array([-101.6839642 , -122.44606221]),\n",
       " array([-101.6839642 , -122.44606221]),\n",
       " array([-101.6839642 , -122.44606221]),\n",
       " array([-101.6839642 , -122.44606221]),\n",
       " array([-101.6839642 , -122.44606221]),\n",
       " array([-101.6839642 , -122.44606221]),\n",
       " array([-101.6839642 , -122.44606221]),\n",
       " array([-101.6839642 , -122.44606221]),\n",
       " array([-101.6839642 , -122.44606221]),\n",
       " array([-101.6839642 , -122.44606221]),\n",
       " array([-101.6839642 , -122.44606221]),\n",
       " array([-101.6839642 , -122.44606221]),\n",
       " array([-101.6839642 , -122.44606221]),\n",
       " array([-101.6839642 , -122.44606221]),\n",
       " array([-101.6839642 , -122.44606221]),\n",
       " array([-101.6839642 , -122.44606221]),\n",
       " array([-101.6839642 , -122.44606221]),\n",
       " array([-101.6839642 , -122.44606221]),\n",
       " array([-101.6839642 , -122.44606221]),\n",
       " array([-101.6839642 , -122.44606221]),\n",
       " array([-101.6839642 , -122.44606221]),\n",
       " array([-101.6839642 , -122.44606221]),\n",
       " array([-101.6839642 , -122.44606221]),\n",
       " array([-101.6839642 , -122.44606221]),\n",
       " array([-101.6839642 , -122.44606221]),\n",
       " array([-101.6839642 , -122.44606221]),\n",
       " array([-101.6839642 , -122.44606221]),\n",
       " array([-101.6839642 , -122.44606221]),\n",
       " array([-101.6839642 , -122.44606221]),\n",
       " array([-101.6839642 , -122.44606221]),\n",
       " array([-101.6839642 , -122.44606221]),\n",
       " array([-101.6839642 , -122.44606221]),\n",
       " array([-101.6839642 , -122.44606221]),\n",
       " array([-101.6839642 , -122.44606221]),\n",
       " array([-101.6839642 , -122.44606221]),\n",
       " array([-101.6839642 , -122.44606221]),\n",
       " array([-101.6839642 , -122.44606221]),\n",
       " array([-101.6839642 , -122.44606221]),\n",
       " array([-101.6839642 , -122.44606221]),\n",
       " array([-101.6839642 , -122.44606221]),\n",
       " array([-101.6839642 , -122.44606221]),\n",
       " array([-101.6839642 , -122.44606221]),\n",
       " array([-101.6839642 , -122.44606221]),\n",
       " array([-101.6839642 , -122.44606221]),\n",
       " array([-101.6839642 , -122.44606221]),\n",
       " array([-101.6839642 , -122.44606221]),\n",
       " array([-101.6839642 , -122.44606221]),\n",
       " array([-101.6839642 , -122.44606221]),\n",
       " array([-101.6839642 , -122.44606221]),\n",
       " array([-101.6839642 , -122.44606221]),\n",
       " array([-101.6839642 , -122.44606221]),\n",
       " array([-101.6839642 , -122.44606221]),\n",
       " array([-101.6839642 , -122.44606221]),\n",
       " array([-101.6839642 , -122.44606221]),\n",
       " array([-101.6839642 , -122.44606221]),\n",
       " array([-101.6839642 , -122.44606221]),\n",
       " array([-101.6839642 , -122.44606221]),\n",
       " array([-101.6839642 , -122.44606221]),\n",
       " array([-101.6839642 , -122.44606221]),\n",
       " array([-101.6839642 , -122.44606221]),\n",
       " array([-101.6839642 , -122.44606221]),\n",
       " array([-101.6839642 , -122.44606221]),\n",
       " array([-101.6839642 , -122.44606221]),\n",
       " array([-101.6839642 , -122.44606221]),\n",
       " array([-101.6839642 , -122.44606221]),\n",
       " array([-101.6839642 , -122.44606221]),\n",
       " array([-101.6839642 , -122.44606221]),\n",
       " array([-101.6839642 , -122.44606221]),\n",
       " array([-101.6839642 , -122.44606221]),\n",
       " array([-101.6839642 , -122.44606221]),\n",
       " array([-101.6839642 , -122.44606221]),\n",
       " array([-101.6839642 , -122.44606221]),\n",
       " array([-101.6839642 , -122.44606221]),\n",
       " array([-101.6839642 , -122.44606221]),\n",
       " array([-101.6839642 , -122.44606221]),\n",
       " array([-101.6839642 , -122.44606221]),\n",
       " array([-101.6839642 , -122.44606221]),\n",
       " array([-101.6839642 , -122.44606221]),\n",
       " array([-101.6839642 , -122.44606221]),\n",
       " array([-101.6839642 , -122.44606221]),\n",
       " array([-101.6839642 , -122.44606221]),\n",
       " array([-101.6839642 , -122.44606221]),\n",
       " array([-101.6839642 , -122.44606221]),\n",
       " array([-101.6839642 , -122.44606221]),\n",
       " array([-101.6839642 , -122.44606221]),\n",
       " array([-101.6839642 , -122.44606221]),\n",
       " array([-101.6839642 , -122.44606221]),\n",
       " array([-101.6839642 , -122.44606221]),\n",
       " array([-101.6839642 , -122.44606221]),\n",
       " array([-101.6839642 , -122.44606221]),\n",
       " array([-101.6839642 , -122.44606221]),\n",
       " array([-101.6839642 , -122.44606221]),\n",
       " array([-101.6839642 , -122.44606221]),\n",
       " array([-101.6839642 , -122.44606221]),\n",
       " array([-101.6839642 , -122.44606221]),\n",
       " array([-101.6839642 , -122.44606221]),\n",
       " array([-101.6839642 , -122.44606221]),\n",
       " array([-101.6839642 , -122.44606221]),\n",
       " array([-101.6839642 , -122.44606221]),\n",
       " array([-101.6839642 , -122.44606221]),\n",
       " array([-101.6839642 , -122.44606221]),\n",
       " array([-101.6839642 , -122.44606221]),\n",
       " array([-101.6839642 , -122.44606221]),\n",
       " array([-101.6839642 , -122.44606221]),\n",
       " array([-101.6839642 , -122.44606221]),\n",
       " array([-101.6839642 , -122.44606221]),\n",
       " array([-101.6839642 , -122.44606221]),\n",
       " array([-101.6839642 , -122.44606221]),\n",
       " array([-101.6839642 , -122.44606221]),\n",
       " array([-101.6839642 , -122.44606221]),\n",
       " array([-101.6839642 , -122.44606221]),\n",
       " array([-101.6839642 , -122.44606221]),\n",
       " array([-101.6839642 , -122.44606221]),\n",
       " array([-101.6839642 , -122.44606221]),\n",
       " array([-101.6839642 , -122.44606221]),\n",
       " array([-101.6839642 , -122.44606221]),\n",
       " array([-101.6839642 , -122.44606221]),\n",
       " array([-101.6839642 , -122.44606221]),\n",
       " array([-101.6839642 , -122.44606221]),\n",
       " array([-101.6839642 , -122.44606221]),\n",
       " array([-101.6839642 , -122.44606221]),\n",
       " array([-101.6839642 , -122.44606221]),\n",
       " array([-101.6839642 , -122.44606221]),\n",
       " array([-101.6839642 , -122.44606221]),\n",
       " array([-101.6839642 , -122.44606221]),\n",
       " array([-101.6839642 , -122.44606221]),\n",
       " array([-101.6839642 , -122.44606221]),\n",
       " array([-101.6839642 , -122.44606221]),\n",
       " array([-101.6839642 , -122.44606221]),\n",
       " array([-101.6839642 , -122.44606221]),\n",
       " array([-101.6839642 , -122.44606221]),\n",
       " array([-101.6839642 , -122.44606221]),\n",
       " array([-101.6839642 , -122.44606221]),\n",
       " array([-101.6839642 , -122.44606221]),\n",
       " array([-101.6839642 , -122.44606221]),\n",
       " array([-101.6839642 , -122.44606221]),\n",
       " array([-101.6839642 , -122.44606221]),\n",
       " array([-101.6839642 , -122.44606221]),\n",
       " array([-101.6839642 , -122.44606221]),\n",
       " array([-101.6839642 , -122.44606221]),\n",
       " array([-101.6839642 , -122.44606221]),\n",
       " array([-101.6839642 , -122.44606221]),\n",
       " array([-101.6839642 , -122.44606221]),\n",
       " array([-101.6839642 , -122.44606221]),\n",
       " array([-101.6839642 , -122.44606221]),\n",
       " array([-101.6839642 , -122.44606221]),\n",
       " array([-101.6839642 , -122.44606221]),\n",
       " array([-101.6839642 , -122.44606221]),\n",
       " array([-101.6839642 , -122.44606221]),\n",
       " array([-101.6839642 , -122.44606221]),\n",
       " array([-101.6839642 , -122.44606221]),\n",
       " array([-101.6839642 , -122.44606221]),\n",
       " array([-101.6839642 , -122.44606221]),\n",
       " array([-101.6839642 , -122.44606221]),\n",
       " array([-101.6839642 , -122.44606221]),\n",
       " array([-101.6839642 , -122.44606221]),\n",
       " array([-101.6839642 , -122.44606221]),\n",
       " array([-101.6839642 , -122.44606221]),\n",
       " array([-101.6839642 , -122.44606221]),\n",
       " array([-101.6839642 , -122.44606221]),\n",
       " array([-101.6839642 , -122.44606221]),\n",
       " array([-101.6839642 , -122.44606221]),\n",
       " array([-101.6839642 , -122.44606221]),\n",
       " array([-101.6839642 , -122.44606221]),\n",
       " array([-101.6839642 , -122.44606221]),\n",
       " array([-101.6839642 , -122.44606221]),\n",
       " array([-101.6839642 , -122.44606221]),\n",
       " array([-101.6839642 , -122.44606221]),\n",
       " array([-101.6839642 , -122.44606221]),\n",
       " array([-101.6839642 , -122.44606221]),\n",
       " array([-101.6839642 , -122.44606221]),\n",
       " array([-101.6839642 , -122.44606221]),\n",
       " array([-101.6839642 , -122.44606221]),\n",
       " array([-101.6839642 , -122.44606221]),\n",
       " array([-101.6839642 , -122.44606221]),\n",
       " array([-101.6839642 , -122.44606221]),\n",
       " array([-101.6839642 , -122.44606221]),\n",
       " array([-101.6839642 , -122.44606221]),\n",
       " array([-101.6839642 , -122.44606221]),\n",
       " array([-101.6839642 , -122.44606221]),\n",
       " array([-101.6839642 , -122.44606221]),\n",
       " array([-101.6839642 , -122.44606221]),\n",
       " array([-101.6839642 , -122.44606221]),\n",
       " array([-101.6839642 , -122.44606221]),\n",
       " array([-101.6839642 , -122.44606221]),\n",
       " array([-101.6839642 , -122.44606221]),\n",
       " array([-101.6839642 , -122.44606221]),\n",
       " array([-101.6839642 , -122.44606221]),\n",
       " array([-101.6839642 , -122.44606221]),\n",
       " array([-101.6839642 , -122.44606221]),\n",
       " array([-101.6839642 , -122.44606221]),\n",
       " array([-101.6839642 , -122.44606221]),\n",
       " array([-101.6839642 , -122.44606221]),\n",
       " array([-101.6839642 , -122.44606221]),\n",
       " array([-101.6839642 , -122.44606221]),\n",
       " array([-101.6839642 , -122.44606221]),\n",
       " array([-101.6839642 , -122.44606221]),\n",
       " array([-101.6839642 , -122.44606221]),\n",
       " array([-101.6839642 , -122.44606221]),\n",
       " array([-101.6839642 , -122.44606221]),\n",
       " array([-101.6839642 , -122.44606221]),\n",
       " array([-101.6839642 , -122.44606221]),\n",
       " array([-101.6839642 , -122.44606221]),\n",
       " array([-101.6839642 , -122.44606221]),\n",
       " array([-101.6839642 , -122.44606221]),\n",
       " array([-101.6839642 , -122.44606221]),\n",
       " array([-101.6839642 , -122.44606221]),\n",
       " array([-101.6839642 , -122.44606221]),\n",
       " array([-101.6839642 , -122.44606221]),\n",
       " array([-101.6839642 , -122.44606221]),\n",
       " array([-101.6839642 , -122.44606221]),\n",
       " array([-101.6839642 , -122.44606221]),\n",
       " array([-101.6839642 , -122.44606221]),\n",
       " array([-101.6839642 , -122.44606221]),\n",
       " array([-101.6839642 , -122.44606221]),\n",
       " array([-101.6839642 , -122.44606221]),\n",
       " array([-101.6839642 , -122.44606221]),\n",
       " array([-101.6839642 , -122.44606221]),\n",
       " array([-101.6839642 , -122.44606221]),\n",
       " array([-101.6839642 , -122.44606221]),\n",
       " array([-101.6839642 , -122.44606221]),\n",
       " array([-101.6839642 , -122.44606221]),\n",
       " array([-101.6839642 , -122.44606221]),\n",
       " array([-101.6839642 , -122.44606221]),\n",
       " array([-101.6839642 , -122.44606221]),\n",
       " array([-101.6839642 , -122.44606221]),\n",
       " array([-101.6839642 , -122.44606221]),\n",
       " array([-101.6839642 , -122.44606221]),\n",
       " array([-101.6839642 , -122.44606221]),\n",
       " array([-101.6839642 , -122.44606221]),\n",
       " array([-101.6839642 , -122.44606221]),\n",
       " array([-101.6839642 , -122.44606221]),\n",
       " array([-101.6839642 , -122.44606221]),\n",
       " array([-101.6839642 , -122.44606221]),\n",
       " array([-101.6839642 , -122.44606221]),\n",
       " array([-101.6839642 , -122.44606221]),\n",
       " array([-101.6839642 , -122.44606221]),\n",
       " array([-101.6839642 , -122.44606221]),\n",
       " array([-101.6839642 , -122.44606221]),\n",
       " array([-101.6839642 , -122.44606221]),\n",
       " array([-101.6839642 , -122.44606221]),\n",
       " array([-101.6839642 , -122.44606221]),\n",
       " array([-101.6839642 , -122.44606221]),\n",
       " array([-101.6839642 , -122.44606221]),\n",
       " array([-101.6839642 , -122.44606221]),\n",
       " array([-101.6839642 , -122.44606221]),\n",
       " array([-101.6839642 , -122.44606221]),\n",
       " array([-101.6839642 , -122.44606221]),\n",
       " array([-101.6839642 , -122.44606221]),\n",
       " array([-101.6839642 , -122.44606221]),\n",
       " array([-101.6839642 , -122.44606221]),\n",
       " array([-101.6839642 , -122.44606221]),\n",
       " array([-101.6839642 , -122.44606221]),\n",
       " array([-101.6839642 , -122.44606221]),\n",
       " array([-101.6839642 , -122.44606221]),\n",
       " array([-101.6839642 , -122.44606221]),\n",
       " array([-101.6839642 , -122.44606221]),\n",
       " array([-101.6839642 , -122.44606221]),\n",
       " array([-101.6839642 , -122.44606221]),\n",
       " array([-101.6839642 , -122.44606221]),\n",
       " array([-101.6839642 , -122.44606221]),\n",
       " array([-101.6839642 , -122.44606221]),\n",
       " array([-101.6839642 , -122.44606221]),\n",
       " array([-101.6839642 , -122.44606221]),\n",
       " array([-101.6839642 , -122.44606221]),\n",
       " array([-101.6839642 , -122.44606221]),\n",
       " array([-101.6839642 , -122.44606221]),\n",
       " array([-101.6839642 , -122.44606221]),\n",
       " array([-101.6839642 , -122.44606221]),\n",
       " array([-101.6839642 , -122.44606221]),\n",
       " array([-101.6839642 , -122.44606221]),\n",
       " array([-101.6839642 , -122.44606221]),\n",
       " array([-101.6839642 , -122.44606221]),\n",
       " array([-101.6839642 , -122.44606221]),\n",
       " array([-101.6839642 , -122.44606221]),\n",
       " array([-101.6839642 , -122.44606221]),\n",
       " array([-101.6839642 , -122.44606221]),\n",
       " array([-101.6839642 , -122.44606221]),\n",
       " array([-101.6839642 , -122.44606221]),\n",
       " array([-101.6839642 , -122.44606221]),\n",
       " array([-101.6839642 , -122.44606221]),\n",
       " array([-101.6839642 , -122.44606221]),\n",
       " array([-101.6839642 , -122.44606221]),\n",
       " array([-101.6839642 , -122.44606221]),\n",
       " array([-101.6839642 , -122.44606221]),\n",
       " array([-101.6839642 , -122.44606221]),\n",
       " array([-101.6839642 , -122.44606221]),\n",
       " array([-101.6839642 , -122.44606221]),\n",
       " array([-101.6839642 , -122.44606221]),\n",
       " array([-101.6839642 , -122.44606221]),\n",
       " array([-101.6839642 , -122.44606221]),\n",
       " array([-101.6839642 , -122.44606221]),\n",
       " array([-101.6839642 , -122.44606221]),\n",
       " array([-101.6839642 , -122.44606221]),\n",
       " array([-101.6839642 , -122.44606221]),\n",
       " array([-101.6839642 , -122.44606221]),\n",
       " array([-101.6839642 , -122.44606221]),\n",
       " array([-101.6839642 , -122.44606221]),\n",
       " array([-101.6839642 , -122.44606221]),\n",
       " array([-101.6839642 , -122.44606221]),\n",
       " array([-101.6839642 , -122.44606221]),\n",
       " array([-101.6839642 , -122.44606221]),\n",
       " array([-101.6839642 , -122.44606221]),\n",
       " array([-101.6839642 , -122.44606221]),\n",
       " array([-101.6839642 , -122.44606221]),\n",
       " array([-101.6839642 , -122.44606221]),\n",
       " array([-101.6839642 , -122.44606221]),\n",
       " array([-101.6839642 , -122.44606221]),\n",
       " array([-101.6839642 , -122.44606221]),\n",
       " array([-101.6839642 , -122.44606221]),\n",
       " array([-101.6839642 , -122.44606221]),\n",
       " array([-101.6839642 , -122.44606221]),\n",
       " array([-101.6839642 , -122.44606221]),\n",
       " array([-101.6839642 , -122.44606221]),\n",
       " array([-101.6839642 , -122.44606221]),\n",
       " array([-101.6839642 , -122.44606221]),\n",
       " array([-101.6839642 , -122.44606221]),\n",
       " array([-101.6839642 , -122.44606221]),\n",
       " array([-101.6839642 , -122.44606221]),\n",
       " array([-101.6839642 , -122.44606221]),\n",
       " array([-101.6839642 , -122.44606221]),\n",
       " array([-101.6839642 , -122.44606221]),\n",
       " array([-101.6839642 , -122.44606221]),\n",
       " array([-101.6839642 , -122.44606221]),\n",
       " array([-101.6839642 , -122.44606221]),\n",
       " array([-101.6839642 , -122.44606221]),\n",
       " array([-101.6839642 , -122.44606221]),\n",
       " array([-101.6839642 , -122.44606221]),\n",
       " array([-101.6839642 , -122.44606221]),\n",
       " array([-101.6839642 , -122.44606221]),\n",
       " array([-101.6839642 , -122.44606221]),\n",
       " array([-101.6839642 , -122.44606221]),\n",
       " array([-101.6839642 , -122.44606221]),\n",
       " array([-101.6839642 , -122.44606221]),\n",
       " array([-101.6839642 , -122.44606221]),\n",
       " array([-101.6839642 , -122.44606221]),\n",
       " array([-101.6839642 , -122.44606221]),\n",
       " array([-101.6839642 , -122.44606221]),\n",
       " array([-101.6839642 , -122.44606221]),\n",
       " array([-101.6839642 , -122.44606221]),\n",
       " array([-101.6839642 , -122.44606221]),\n",
       " array([-101.6839642 , -122.44606221]),\n",
       " array([-101.6839642 , -122.44606221]),\n",
       " array([-101.6839642 , -122.44606221]),\n",
       " array([-101.6839642 , -122.44606221]),\n",
       " array([-101.6839642 , -122.44606221]),\n",
       " array([-101.6839642 , -122.44606221]),\n",
       " array([-101.6839642 , -122.44606221]),\n",
       " array([-101.6839642 , -122.44606221]),\n",
       " array([-101.6839642 , -122.44606221]),\n",
       " array([-101.6839642 , -122.44606221]),\n",
       " array([-101.6839642 , -122.44606221]),\n",
       " array([-101.6839642 , -122.44606221]),\n",
       " array([-101.6839642 , -122.44606221]),\n",
       " array([-101.6839642 , -122.44606221]),\n",
       " array([-101.6839642 , -122.44606221]),\n",
       " array([-101.6839642 , -122.44606221]),\n",
       " array([-101.6839642 , -122.44606221]),\n",
       " array([-101.6839642 , -122.44606221]),\n",
       " array([-101.6839642 , -122.44606221]),\n",
       " array([-101.6839642 , -122.44606221]),\n",
       " array([-101.6839642 , -122.44606221]),\n",
       " array([-101.6839642 , -122.44606221]),\n",
       " array([-101.6839642 , -122.44606221]),\n",
       " array([-101.6839642 , -122.44606221]),\n",
       " array([-101.6839642 , -122.44606221]),\n",
       " array([-101.6839642 , -122.44606221]),\n",
       " array([-101.6839642 , -122.44606221]),\n",
       " array([-101.6839642 , -122.44606221]),\n",
       " array([-101.6839642 , -122.44606221]),\n",
       " array([-101.6839642 , -122.44606221]),\n",
       " array([-101.6839642 , -122.44606221]),\n",
       " array([-101.6839642 , -122.44606221]),\n",
       " array([-101.6839642 , -122.44606221]),\n",
       " array([-101.6839642 , -122.44606221]),\n",
       " array([-101.6839642 , -122.44606221]),\n",
       " array([-101.6839642 , -122.44606221]),\n",
       " array([-101.6839642 , -122.44606221]),\n",
       " array([-101.6839642 , -122.44606221]),\n",
       " array([-101.6839642 , -122.44606221]),\n",
       " array([-101.6839642 , -122.44606221]),\n",
       " array([-101.6839642 , -122.44606221]),\n",
       " array([-101.6839642 , -122.44606221]),\n",
       " array([-101.6839642 , -122.44606221]),\n",
       " array([-101.6839642 , -122.44606221]),\n",
       " array([-101.6839642 , -122.44606221]),\n",
       " array([-101.6839642 , -122.44606221]),\n",
       " array([-101.6839642 , -122.44606221]),\n",
       " array([-101.6839642 , -122.44606221]),\n",
       " array([-101.6839642 , -122.44606221]),\n",
       " array([-101.6839642 , -122.44606221]),\n",
       " array([-101.6839642 , -122.44606221]),\n",
       " array([-101.6839642 , -122.44606221]),\n",
       " array([-101.6839642 , -122.44606221]),\n",
       " array([-101.6839642 , -122.44606221]),\n",
       " array([-101.6839642 , -122.44606221]),\n",
       " array([-101.6839642 , -122.44606221]),\n",
       " array([-101.6839642 , -122.44606221]),\n",
       " array([-101.6839642 , -122.44606221]),\n",
       " array([-101.6839642 , -122.44606221]),\n",
       " array([-101.6839642 , -122.44606221]),\n",
       " array([-101.6839642 , -122.44606221]),\n",
       " array([-101.6839642 , -122.44606221]),\n",
       " array([-101.6839642 , -122.44606221]),\n",
       " array([-101.6839642 , -122.44606221]),\n",
       " array([-101.6839642 , -122.44606221]),\n",
       " array([-101.6839642 , -122.44606221]),\n",
       " array([-101.6839642 , -122.44606221]),\n",
       " array([-101.6839642 , -122.44606221]),\n",
       " array([-101.6839642 , -122.44606221]),\n",
       " array([-101.6839642 , -122.44606221]),\n",
       " array([-101.6839642 , -122.44606221]),\n",
       " array([-101.6839642 , -122.44606221]),\n",
       " array([-101.6839642 , -122.44606221]),\n",
       " array([-101.6839642 , -122.44606221]),\n",
       " array([-101.6839642 , -122.44606221]),\n",
       " array([-101.6839642 , -122.44606221]),\n",
       " array([-101.6839642 , -122.44606221]),\n",
       " array([-101.6839642 , -122.44606221]),\n",
       " array([-101.6839642 , -122.44606221]),\n",
       " array([-101.6839642 , -122.44606221]),\n",
       " array([-101.6839642 , -122.44606221]),\n",
       " array([-101.6839642 , -122.44606221]),\n",
       " array([-101.6839642 , -122.44606221]),\n",
       " array([-101.6839642 , -122.44606221]),\n",
       " array([-101.6839642 , -122.44606221]),\n",
       " array([-101.6839642 , -122.44606221]),\n",
       " array([-101.6839642 , -122.44606221]),\n",
       " array([-101.6839642 , -122.44606221]),\n",
       " array([-101.6839642 , -122.44606221]),\n",
       " array([-101.6839642 , -122.44606221]),\n",
       " array([-101.6839642 , -122.44606221]),\n",
       " array([-101.6839642 , -122.44606221]),\n",
       " array([-101.6839642 , -122.44606221]),\n",
       " array([-101.6839642 , -122.44606221]),\n",
       " array([-101.6839642 , -122.44606221]),\n",
       " array([-101.6839642 , -122.44606221]),\n",
       " array([-101.6839642 , -122.44606221]),\n",
       " array([-101.6839642 , -122.44606221]),\n",
       " array([-101.6839642 , -122.44606221]),\n",
       " array([-101.6839642 , -122.44606221]),\n",
       " array([-101.6839642 , -122.44606221]),\n",
       " array([-101.6839642 , -122.44606221]),\n",
       " array([-101.6839642 , -122.44606221]),\n",
       " array([-101.6839642 , -122.44606221]),\n",
       " array([-101.6839642 , -122.44606221]),\n",
       " array([-101.6839642 , -122.44606221]),\n",
       " array([-101.6839642 , -122.44606221]),\n",
       " array([-101.6839642 , -122.44606221]),\n",
       " array([-101.6839642 , -122.44606221]),\n",
       " array([-101.6839642 , -122.44606221]),\n",
       " array([-101.6839642 , -122.44606221]),\n",
       " array([-101.6839642 , -122.44606221]),\n",
       " array([-101.6839642 , -122.44606221]),\n",
       " array([-101.6839642 , -122.44606221]),\n",
       " array([-101.6839642 , -122.44606221]),\n",
       " array([-101.6839642 , -122.44606221]),\n",
       " array([-101.6839642 , -122.44606221]),\n",
       " array([-101.6839642 , -122.44606221]),\n",
       " array([-101.6839642 , -122.44606221]),\n",
       " array([-101.6839642 , -122.44606221]),\n",
       " array([-101.6839642 , -122.44606221]),\n",
       " array([-101.6839642 , -122.44606221]),\n",
       " array([-101.6839642 , -122.44606221]),\n",
       " array([-101.6839642 , -122.44606221]),\n",
       " array([-101.6839642 , -122.44606221]),\n",
       " array([-101.6839642 , -122.44606221]),\n",
       " array([-101.6839642 , -122.44606221]),\n",
       " array([-101.6839642 , -122.44606221]),\n",
       " array([-101.6839642 , -122.44606221]),\n",
       " array([-101.6839642 , -122.44606221]),\n",
       " array([-101.6839642 , -122.44606221]),\n",
       " array([-101.6839642 , -122.44606221]),\n",
       " array([-101.6839642 , -122.44606221]),\n",
       " array([-101.6839642 , -122.44606221]),\n",
       " array([-101.6839642 , -122.44606221]),\n",
       " array([-101.6839642 , -122.44606221]),\n",
       " array([-101.6839642 , -122.44606221]),\n",
       " array([-101.6839642 , -122.44606221]),\n",
       " array([-101.6839642 , -122.44606221]),\n",
       " array([-101.6839642 , -122.44606221]),\n",
       " array([-101.6839642 , -122.44606221]),\n",
       " array([-101.6839642 , -122.44606221]),\n",
       " array([-101.6839642 , -122.44606221]),\n",
       " array([-101.6839642 , -122.44606221]),\n",
       " array([-101.6839642 , -122.44606221]),\n",
       " array([-101.6839642 , -122.44606221]),\n",
       " array([-101.6839642 , -122.44606221]),\n",
       " array([-101.6839642 , -122.44606221]),\n",
       " array([-101.6839642 , -122.44606221]),\n",
       " array([-101.6839642 , -122.44606221]),\n",
       " array([-101.6839642 , -122.44606221]),\n",
       " array([-101.6839642 , -122.44606221]),\n",
       " array([-101.6839642 , -122.44606221]),\n",
       " array([-101.6839642 , -122.44606221]),\n",
       " array([-101.6839642 , -122.44606221]),\n",
       " array([-101.6839642 , -122.44606221]),\n",
       " array([-101.6839642 , -122.44606221]),\n",
       " array([-101.6839642 , -122.44606221]),\n",
       " array([-101.6839642 , -122.44606221]),\n",
       " array([-101.6839642 , -122.44606221]),\n",
       " array([-101.6839642 , -122.44606221]),\n",
       " array([-101.6839642 , -122.44606221]),\n",
       " array([-101.6839642 , -122.44606221]),\n",
       " array([-101.6839642 , -122.44606221]),\n",
       " array([-101.6839642 , -122.44606221]),\n",
       " array([-101.6839642 , -122.44606221]),\n",
       " array([-101.6839642 , -122.44606221]),\n",
       " array([-101.6839642 , -122.44606221]),\n",
       " array([-101.6839642 , -122.44606221]),\n",
       " array([-101.6839642 , -122.44606221]),\n",
       " array([-101.6839642 , -122.44606221]),\n",
       " array([-101.6839642 , -122.44606221]),\n",
       " array([-101.6839642 , -122.44606221]),\n",
       " array([-101.6839642 , -122.44606221]),\n",
       " array([-101.6839642 , -122.44606221]),\n",
       " array([-101.6839642 , -122.44606221]),\n",
       " array([-101.6839642 , -122.44606221]),\n",
       " array([-101.6839642 , -122.44606221]),\n",
       " array([-101.6839642 , -122.44606221]),\n",
       " array([-101.6839642 , -122.44606221]),\n",
       " array([-101.6839642 , -122.44606221]),\n",
       " array([-101.6839642 , -122.44606221]),\n",
       " array([-101.6839642 , -122.44606221]),\n",
       " array([-101.6839642 , -122.44606221]),\n",
       " array([-101.6839642 , -122.44606221]),\n",
       " array([-101.6839642 , -122.44606221]),\n",
       " array([-101.6839642 , -122.44606221]),\n",
       " array([-101.6839642 , -122.44606221]),\n",
       " array([-101.6839642 , -122.44606221]),\n",
       " array([-101.6839642 , -122.44606221]),\n",
       " array([-101.6839642 , -122.44606221]),\n",
       " array([-101.6839642 , -122.44606221]),\n",
       " array([-101.6839642 , -122.44606221]),\n",
       " array([-101.6839642 , -122.44606221]),\n",
       " array([-101.6839642 , -122.44606221]),\n",
       " array([-101.6839642 , -122.44606221]),\n",
       " array([-101.6839642 , -122.44606221]),\n",
       " array([-101.6839642 , -122.44606221]),\n",
       " array([-101.6839642 , -122.44606221]),\n",
       " array([-101.6839642 , -122.44606221]),\n",
       " array([-101.6839642 , -122.44606221]),\n",
       " array([-101.6839642 , -122.44606221]),\n",
       " array([-101.6839642 , -122.44606221]),\n",
       " array([-101.6839642 , -122.44606221]),\n",
       " array([-101.6839642 , -122.44606221]),\n",
       " array([-101.6839642 , -122.44606221]),\n",
       " array([-101.6839642 , -122.44606221]),\n",
       " array([-101.6839642 , -122.44606221]),\n",
       " array([-101.6839642 , -122.44606221]),\n",
       " array([-101.6839642 , -122.44606221]),\n",
       " array([-101.6839642 , -122.44606221]),\n",
       " array([-101.6839642 , -122.44606221]),\n",
       " array([-101.6839642 , -122.44606221]),\n",
       " array([-101.6839642 , -122.44606221]),\n",
       " array([-101.6839642 , -122.44606221]),\n",
       " array([-101.6839642 , -122.44606221]),\n",
       " array([-101.6839642 , -122.44606221]),\n",
       " array([-101.6839642 , -122.44606221]),\n",
       " array([-101.6839642 , -122.44606221]),\n",
       " array([-101.6839642 , -122.44606221]),\n",
       " array([-101.6839642 , -122.44606221]),\n",
       " array([-101.6839642 , -122.44606221]),\n",
       " array([-101.6839642 , -122.44606221]),\n",
       " array([-101.6839642 , -122.44606221]),\n",
       " array([-101.6839642 , -122.44606221]),\n",
       " array([-101.6839642 , -122.44606221]),\n",
       " array([-101.6839642 , -122.44606221]),\n",
       " array([-101.6839642 , -122.44606221]),\n",
       " array([-101.6839642 , -122.44606221]),\n",
       " array([-101.6839642 , -122.44606221]),\n",
       " array([-101.6839642 , -122.44606221]),\n",
       " array([-101.6839642 , -122.44606221]),\n",
       " array([-101.6839642 , -122.44606221]),\n",
       " array([-101.6839642 , -122.44606221]),\n",
       " array([-101.6839642 , -122.44606221]),\n",
       " array([-101.6839642 , -122.44606221]),\n",
       " array([-101.6839642 , -122.44606221]),\n",
       " array([-101.6839642 , -122.44606221]),\n",
       " array([-101.6839642 , -122.44606221]),\n",
       " array([-101.6839642 , -122.44606221]),\n",
       " array([-101.6839642 , -122.44606221]),\n",
       " array([-101.6839642 , -122.44606221]),\n",
       " array([-101.6839642 , -122.44606221]),\n",
       " array([-101.6839642 , -122.44606221]),\n",
       " array([-101.6839642 , -122.44606221]),\n",
       " array([-101.6839642 , -122.44606221]),\n",
       " array([-101.6839642 , -122.44606221]),\n",
       " array([-101.6839642 , -122.44606221]),\n",
       " array([-101.6839642 , -122.44606221]),\n",
       " array([-101.6839642 , -122.44606221]),\n",
       " array([-101.6839642 , -122.44606221]),\n",
       " array([-101.6839642 , -122.44606221]),\n",
       " array([-101.6839642 , -122.44606221]),\n",
       " array([-101.6839642 , -122.44606221]),\n",
       " array([-101.6839642 , -122.44606221]),\n",
       " array([-101.6839642 , -122.44606221]),\n",
       " array([-101.6839642 , -122.44606221]),\n",
       " array([-101.6839642 , -122.44606221]),\n",
       " array([-101.6839642 , -122.44606221]),\n",
       " array([-101.6839642 , -122.44606221]),\n",
       " array([-101.6839642 , -122.44606221]),\n",
       " array([-101.6839642 , -122.44606221]),\n",
       " array([-101.6839642 , -122.44606221]),\n",
       " array([-101.6839642 , -122.44606221]),\n",
       " array([-101.6839642 , -122.44606221]),\n",
       " array([-101.6839642 , -122.44606221]),\n",
       " array([-101.6839642 , -122.44606221]),\n",
       " array([-101.6839642 , -122.44606221]),\n",
       " array([-101.6839642 , -122.44606221]),\n",
       " array([-101.6839642 , -122.44606221]),\n",
       " array([-101.6839642 , -122.44606221]),\n",
       " array([-101.6839642 , -122.44606221]),\n",
       " array([-101.6839642 , -122.44606221]),\n",
       " array([-101.6839642 , -122.44606221]),\n",
       " array([-101.6839642 , -122.44606221]),\n",
       " array([-101.6839642 , -122.44606221]),\n",
       " array([-101.6839642 , -122.44606221]),\n",
       " array([-101.6839642 , -122.44606221])]"
      ]
     },
     "execution_count": 601,
     "metadata": {},
     "output_type": "execute_result"
    }
   ],
   "source": [
    "[data[i][\"Q\"][99][1] for i in data.keys()]"
   ]
  },
  {
   "cell_type": "code",
   "execution_count": null,
   "id": "1bc70c48",
   "metadata": {},
   "outputs": [],
   "source": []
  }
 ],
 "metadata": {
  "kernelspec": {
   "display_name": "Python 3 (ipykernel)",
   "language": "python",
   "name": "python3"
  },
  "language_info": {
   "codemirror_mode": {
    "name": "ipython",
    "version": 3
   },
   "file_extension": ".py",
   "mimetype": "text/x-python",
   "name": "python",
   "nbconvert_exporter": "python",
   "pygments_lexer": "ipython3",
   "version": "3.9.7"
  }
 },
 "nbformat": 4,
 "nbformat_minor": 5
}
